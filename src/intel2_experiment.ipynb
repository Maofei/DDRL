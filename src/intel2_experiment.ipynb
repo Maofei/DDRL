{
 "cells": [
  {
   "cell_type": "code",
   "execution_count": null,
   "metadata": {
    "collapsed": true
   },
   "outputs": [],
   "source": [
    "import os\n",
    "import fnmatch\n",
    "import time\n",
    "\n",
    "import pandas as pd\n",
    "import numpy as np\n",
    "import matplotlib.pyplot as plt\n",
    "\n",
    "%matplotlib notebook"
   ]
  },
  {
   "cell_type": "code",
   "execution_count": null,
   "metadata": {
    "collapsed": true
   },
   "outputs": [],
   "source": [
    "# description of charts\n",
    "# 2 possible ways:\n",
    "# - chart_name : list of channel names - for every name on list plot data from <name>.csv\n",
    "# - chart_name : 'per_worker' - plot data from every chart_name_<number>.csv file\n",
    "charts_description = {\n",
    "    'score' : ['score_mean', 'score_max', 'online_score'],\n",
    "    'loss' : ['cost', 'policy_loss', 'xentropy_loss', 'value_loss', 'advantage', 'pred_reward', 'max_logit'],\n",
    "    'gradients' : ['grad_norm_before_clip', 'grad_norm_after_clip'],\n",
    "    'active relus' : ['active_relus'],\n",
    "    'delay' : ['max_delay', 'mean_delay', 'min_delay'],\n",
    "    'other' : ['active_workers', 'dp_per_s'],\n",
    "    \n",
    "    'cost' : 'per_worker',\n",
    "    'policy_loss' : 'per_worker',\n",
    "    'xentropy_loss' : 'per_worker',\n",
    "    'value_loss' : 'per_worker',\n",
    "    \n",
    "    'mean_value' : 'per_worker',\n",
    "    'mean_action' : 'per_worker',\n",
    "    'mean_state' : 'per_worker',\n",
    "    'mean_futurereward' : 'per_worker',\n",
    "    'mean_init_R' : 'per_worker',\n",
    "    \n",
    "    'fc_value' : 'per_worker',\n",
    "    'fc_fc0' : 'per_worker',\n",
    "}"
   ]
  },
  {
   "cell_type": "code",
   "execution_count": null,
   "metadata": {
    "collapsed": true
   },
   "outputs": [],
   "source": [
    "# here write path to experiment dir\n",
    "EXP_DIR = '/home/ajedrych/Documents/experiments/exp16_4/'\n",
    "\n",
    "if EXP_DIR[-1] != '/':\n",
    "    EXP_DIR += '/'"
   ]
  },
  {
   "cell_type": "code",
   "execution_count": null,
   "metadata": {
    "collapsed": true
   },
   "outputs": [],
   "source": [
    "class Channel:\n",
    "    def __init__(self, x=None, y=None, filepath=None, title=None):\n",
    "        if filepath is not None:\n",
    "            dt = pd.read_csv(filepath, delimiter=',')\n",
    "            if len(dt) == 0:\n",
    "                # no data yet\n",
    "                self._x = []\n",
    "                self._y = []\n",
    "            else:\n",
    "                self._x = dt.x\n",
    "                self._y = dt.y\n",
    "        else:\n",
    "            self._x = x\n",
    "            self._y = y\n",
    "            \n",
    "        self._title = title\n",
    "    \n",
    "    @property\n",
    "    def x(self):\n",
    "        return self._x\n",
    "    \n",
    "    @property\n",
    "    def y(self):\n",
    "        return self._y\n",
    "    \n",
    "    @property\n",
    "    def title(self):\n",
    "        return self._title\n",
    "    \n",
    "class Chart:\n",
    "    def __init__(self, channels, title, lcols=5):\n",
    "        self._channels = channels\n",
    "        self._title = title\n",
    "        self._lcols = lcols\n",
    "        \n",
    "    def __getindex__(self, index):\n",
    "        return channels[index]\n",
    "    \n",
    "    @property\n",
    "    def title(self):\n",
    "        return self._title\n",
    "    \n",
    "    @property\n",
    "    def lcols(self):\n",
    "        return self._lcols\n",
    "    \n",
    "    def channels(self):\n",
    "        for channel in self._channels:\n",
    "            yield channel\n",
    "    "
   ]
  },
  {
   "cell_type": "code",
   "execution_count": null,
   "metadata": {
    "collapsed": true
   },
   "outputs": [],
   "source": [
    "def draw_chart(fig, nrows, ncols, i, chart):\n",
    "    ax = fig.add_subplot(nrows, ncols, i)\n",
    "    ax.title.set_text(chart.title)\n",
    "    for channel in chart.channels():\n",
    "        ax.plot(channel.x, channel.y, label=channel.title)\n",
    "    ax.legend(loc='upper left',\n",
    "          fancybox=True, ncol=chart.lcols)"
   ]
  },
  {
   "cell_type": "code",
   "execution_count": null,
   "metadata": {
    "collapsed": true
   },
   "outputs": [],
   "source": [
    "def to_chart(chart_name, channel_names):   \n",
    "    channels = []\n",
    "    \n",
    "    if channel_names == 'per_worker':\n",
    "        name = chart_name + '_'\n",
    "        for f in os.listdir(EXP_DIR):\n",
    "            if fnmatch.fnmatch(f, name + '[0-9]*.csv'):\n",
    "                filepath = EXP_DIR + f\n",
    "                channels.append(Channel(filepath=filepath, title=f[(f.rfind('_')+1):-4]))\n",
    "        return Chart(channels, title=chart_name, lcols=9)\n",
    "    else:\n",
    "        for name in channel_names:\n",
    "            filename = EXP_DIR + name + '.csv'\n",
    "            channels.append(Channel(filepath=filename, title=name))\n",
    "        return Chart(channels, title=chart_name)"
   ]
  },
  {
   "cell_type": "code",
   "execution_count": null,
   "metadata": {},
   "outputs": [],
   "source": [
    "# read files\n",
    "charts = {}\n",
    "for chart_name in charts_description:\n",
    "    charts[chart_name] = to_chart(chart_name, charts_description[chart_name])"
   ]
  },
  {
   "cell_type": "code",
   "execution_count": null,
   "metadata": {
    "collapsed": true
   },
   "outputs": [],
   "source": [
    "def draw_single_chart(chart):\n",
    "    fig = plt.figure()\n",
    "    draw_chart(fig, 1, 1, 1, chart)\n",
    "    fig.show()"
   ]
  },
  {
   "cell_type": "code",
   "execution_count": null,
   "metadata": {
    "scrolled": false
   },
   "outputs": [],
   "source": [
    "for chart_name in charts:\n",
    "    draw_single_chart(charts[chart_name])"
   ]
  },
  {
   "cell_type": "code",
   "execution_count": null,
   "metadata": {
    "collapsed": true
   },
   "outputs": [],
   "source": []
  }
 ],
 "metadata": {
  "kernelspec": {
   "display_name": "Python 2",
   "language": "python",
   "name": "python2"
  },
  "language_info": {
   "codemirror_mode": {
    "name": "ipython",
    "version": 2
   },
   "file_extension": ".py",
   "mimetype": "text/x-python",
   "name": "python",
   "nbconvert_exporter": "python",
   "pygments_lexer": "ipython2",
   "version": "2.7.12"
  }
 },
 "nbformat": 4,
 "nbformat_minor": 2
}
